{
  "cells": [
    {
      "cell_type": "markdown",
      "metadata": {
        "id": "view-in-github",
        "colab_type": "text"
      },
      "source": [
        "<a href=\"https://colab.research.google.com/github/SKawsar/Data_Visualization_with_Python_s2/blob/main/Lecture_8.ipynb\" target=\"_parent\"><img src=\"https://colab.research.google.com/assets/colab-badge.svg\" alt=\"Open In Colab\"/></a>"
      ]
    },
    {
      "cell_type": "markdown",
      "metadata": {
        "id": "Zi8v_xdLFQ85"
      },
      "source": [
        "# Lecture 08: Data Visualization: Heatmap and Time-Series plot\n",
        "\n",
        "Instructor: Md Shahidullah Kawsar\n",
        "<br>Data Scientist, IDARE, Houston, TX, USA\n",
        "\n",
        "#### Objectives:\n",
        "- Heatmap\n",
        "- Time-Series plot\n",
        "\n",
        "Dataset sources: datacamp.com\n",
        "\n",
        "[1] https://github.com/jupyter-incubator/sparkmagic/blob/master/autovizwidget/examples/autoviz.ipynb\n",
        "<br>[2] https://github.com/SKawsar/time_series_analysis\n",
        "<br>[3] https://numpy.org/doc/stable/reference/generated/numpy.triu_indices_from.html\n",
        "<br>[4] https://numpy.org/doc/stable/reference/generated/numpy.zeros_like.html"
      ]
    },
    {
      "cell_type": "code",
      "execution_count": null,
      "metadata": {
        "id": "lSbpXGaTFQ87"
      },
      "outputs": [],
      "source": [
        "import pandas as pd\n",
        "import numpy as np\n",
        "\n",
        "# required librairies for data visualization\n",
        "import matplotlib.pyplot as plt\n",
        "import seaborn as sns\n",
        "\n",
        "sns.set_context(\"talk\")"
      ]
    },
    {
      "cell_type": "code",
      "execution_count": null,
      "metadata": {
        "id": "v_oEs1_8FQ87"
      },
      "outputs": [],
      "source": [
        ""
      ]
    },
    {
      "cell_type": "markdown",
      "metadata": {
        "id": "Vs_P9iUDFQ88"
      },
      "source": [
        "#### Assumptions:\n",
        "\n",
        "- **Car price increases when engineSize increases** \n",
        "- **Car price increases when mpg increases** \n",
        "- **Car price decreases when the mileage increases**\n",
        "- **When the engineSize increases, the mpg decreases** \n",
        "- **Car price increases with the latest year cars** "
      ]
    },
    {
      "cell_type": "markdown",
      "metadata": {
        "id": "6A3vJO_gFQ88"
      },
      "source": [
        "#### Correlation"
      ]
    },
    {
      "cell_type": "code",
      "execution_count": null,
      "metadata": {
        "id": "gwjxbH9uFQ88"
      },
      "outputs": [],
      "source": [
        ""
      ]
    },
    {
      "cell_type": "markdown",
      "metadata": {
        "id": "1MP0WneKFQ88"
      },
      "source": [
        "#### Heatmap"
      ]
    },
    {
      "cell_type": "code",
      "execution_count": null,
      "metadata": {
        "id": "eY3lK1PWFQ89"
      },
      "outputs": [],
      "source": [
        ""
      ]
    },
    {
      "cell_type": "markdown",
      "metadata": {
        "id": "gbHisM8BFQ89"
      },
      "source": [
        "### Time-series plot: earthquakes dataset"
      ]
    },
    {
      "cell_type": "code",
      "execution_count": null,
      "metadata": {
        "id": "ns5tecLdFQ89"
      },
      "outputs": [],
      "source": [
        ""
      ]
    },
    {
      "cell_type": "markdown",
      "metadata": {
        "id": "Iy14LKYPFQ8-"
      },
      "source": [
        "### Time-series plot: CO2 dataset"
      ]
    },
    {
      "cell_type": "code",
      "execution_count": null,
      "metadata": {
        "id": "qF68nMpZFQ8-"
      },
      "outputs": [],
      "source": [
        ""
      ]
    }
  ],
  "metadata": {
    "kernelspec": {
      "display_name": "Python 3",
      "language": "python",
      "name": "python3"
    },
    "language_info": {
      "codemirror_mode": {
        "name": "ipython",
        "version": 3
      },
      "file_extension": ".py",
      "mimetype": "text/x-python",
      "name": "python",
      "nbconvert_exporter": "python",
      "pygments_lexer": "ipython3",
      "version": "3.7.7"
    },
    "colab": {
      "name": "Lecture_8.ipynb",
      "provenance": [],
      "collapsed_sections": [],
      "include_colab_link": true
    }
  },
  "nbformat": 4,
  "nbformat_minor": 0
}