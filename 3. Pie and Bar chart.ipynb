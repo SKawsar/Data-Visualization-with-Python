{
  "cells": [
    {
      "cell_type": "markdown",
      "metadata": {
        "id": "view-in-github",
        "colab_type": "text"
      },
      "source": [
        "<a href=\"https://colab.research.google.com/github/SKawsar/Data_Visualization_with_Python_s2/blob/main/Lecture_3.ipynb\" target=\"_parent\"><img src=\"https://colab.research.google.com/assets/colab-badge.svg\" alt=\"Open In Colab\"/></a>"
      ]
    },
    {
      "cell_type": "markdown",
      "metadata": {
        "id": "Ws2KB6e1urpT"
      },
      "source": [
        "# Lecture 03: Data Visualization: Pie Chart, Bar plot\n",
        "\n",
        "Instructor:\n",
        "<br>**Md Shahidullah Kawsar**\n",
        "<br>Data Scientist, IDARE, Houston, TX, USA\n",
        "\n",
        "#### Objectives:\n",
        "- Familiarity with matplotlib and seaborn\n",
        "- Data Analysis using NumPy and Pandas\n",
        "- How to find the number of unique values present in the DataFrame?\n",
        "- How to rename a column name is pandas DataFrame?\n",
        "- How to round the numeric values in a pandas column?\n",
        "- How to change the index of a DataFrame?\n",
        "- Data Visualization: Pie Chart, Bar plot\n",
        "- How to set a title, xlabel and ylabel of a plot?\n",
        "- How to change the range of x and y axis?\n",
        "- How to rotate the x and y tick labels?\n",
        "\n",
        "#### References:\n",
        "[1] How to count unique values in a column: https://pandas.pydata.org/docs/reference/api/pandas.Series.value_counts.html\n",
        "<br>[2] How to change a column name: https://pandas.pydata.org/pandas-docs/stable/reference/api/pandas.DataFrame.rename.html\n",
        "<br>[3] How to change index of a pandas DataFrame: https://pandas.pydata.org/pandas-docs/stable/reference/api/pandas.DataFrame.reset_index.html\n",
        "<br>[4] How to round values in a DataFrame: https://pandas.pydata.org/docs/reference/api/pandas.DataFrame.round.html\n",
        "<br>[5] Subplot in matplotlib: https://matplotlib.org/stable/gallery/subplots_axes_and_figures/subplots_demo.html\n",
        "<br>[6] How to add annotation in matplotlib Barplot: https://stackoverflow.com/questions/30228069/how-to-display-the-value-of-the-bar-on-each-bar-with-pyplot-barh\n",
        "<br>[7] Seaborn Barplot: https://seaborn.pydata.org/generated/seaborn.barplot.html\n",
        "<br>[8] How to change context of an image: https://seaborn.pydata.org/generated/seaborn.set_context.html\n",
        "<br>[9] How to add annotation in Seaborn Barplot: https://datavizpyr.com/how-to-annotate-bars-in-barplot-with-matplotlib-in-python/"
      ]
    },
    {
      "cell_type": "markdown",
      "metadata": {
        "id": "bosmZEHgurpW"
      },
      "source": [
        "#### Import required libraries and packages"
      ]
    },
    {
      "cell_type": "code",
      "execution_count": null,
      "metadata": {
        "id": "qkvum6aYurpX"
      },
      "outputs": [],
      "source": [
        "# for data analysis\n",
        "import numpy as np\n",
        "import pandas as pd\n",
        "\n",
        "# for data visualization\n",
        "import matplotlib.pyplot as plt\n",
        "import seaborn as sns"
      ]
    },
    {
      "cell_type": "markdown",
      "metadata": {
        "id": "TfA6a-t7urpX"
      },
      "source": [
        "#### Read a csv file as pandas DataFrame"
      ]
    },
    {
      "cell_type": "code",
      "execution_count": null,
      "metadata": {
        "id": "ttXFEapOurpY",
        "outputId": "3d7b5c98-41b3-43b1-d4ff-b073878a65f9"
      },
      "outputs": [
        {
          "name": "stdout",
          "output_type": "stream",
          "text": [
            "<class 'pandas.core.frame.DataFrame'>\n"
          ]
        },
        {
          "data": {
            "text/html": [
              "<div>\n",
              "<style scoped>\n",
              "    .dataframe tbody tr th:only-of-type {\n",
              "        vertical-align: middle;\n",
              "    }\n",
              "\n",
              "    .dataframe tbody tr th {\n",
              "        vertical-align: top;\n",
              "    }\n",
              "\n",
              "    .dataframe thead th {\n",
              "        text-align: right;\n",
              "    }\n",
              "</style>\n",
              "<table border=\"1\" class=\"dataframe\">\n",
              "  <thead>\n",
              "    <tr style=\"text-align: right;\">\n",
              "      <th></th>\n",
              "      <th>model</th>\n",
              "      <th>year</th>\n",
              "      <th>price</th>\n",
              "      <th>transmission</th>\n",
              "      <th>mileage</th>\n",
              "      <th>fuelType</th>\n",
              "      <th>mpg</th>\n",
              "      <th>engineSize</th>\n",
              "    </tr>\n",
              "  </thead>\n",
              "  <tbody>\n",
              "    <tr>\n",
              "      <th>0</th>\n",
              "      <td>5 Series</td>\n",
              "      <td>2014</td>\n",
              "      <td>11200</td>\n",
              "      <td>Automatic</td>\n",
              "      <td>67068</td>\n",
              "      <td>Diesel</td>\n",
              "      <td>57.6</td>\n",
              "      <td>2.0</td>\n",
              "    </tr>\n",
              "    <tr>\n",
              "      <th>1</th>\n",
              "      <td>6 Series</td>\n",
              "      <td>2018</td>\n",
              "      <td>27000</td>\n",
              "      <td>Automatic</td>\n",
              "      <td>14827</td>\n",
              "      <td>Petrol</td>\n",
              "      <td>42.8</td>\n",
              "      <td>2.0</td>\n",
              "    </tr>\n",
              "    <tr>\n",
              "      <th>2</th>\n",
              "      <td>5 Series</td>\n",
              "      <td>2016</td>\n",
              "      <td>16000</td>\n",
              "      <td>Automatic</td>\n",
              "      <td>62794</td>\n",
              "      <td>Diesel</td>\n",
              "      <td>51.4</td>\n",
              "      <td>3.0</td>\n",
              "    </tr>\n",
              "    <tr>\n",
              "      <th>3</th>\n",
              "      <td>1 Series</td>\n",
              "      <td>2017</td>\n",
              "      <td>12750</td>\n",
              "      <td>Automatic</td>\n",
              "      <td>26676</td>\n",
              "      <td>Diesel</td>\n",
              "      <td>72.4</td>\n",
              "      <td>1.5</td>\n",
              "    </tr>\n",
              "    <tr>\n",
              "      <th>4</th>\n",
              "      <td>7 Series</td>\n",
              "      <td>2014</td>\n",
              "      <td>14500</td>\n",
              "      <td>Automatic</td>\n",
              "      <td>39554</td>\n",
              "      <td>Diesel</td>\n",
              "      <td>50.4</td>\n",
              "      <td>3.0</td>\n",
              "    </tr>\n",
              "  </tbody>\n",
              "</table>\n",
              "</div>"
            ],
            "text/plain": [
              "       model  year  price transmission  mileage fuelType   mpg  engineSize\n",
              "0   5 Series  2014  11200    Automatic    67068   Diesel  57.6         2.0\n",
              "1   6 Series  2018  27000    Automatic    14827   Petrol  42.8         2.0\n",
              "2   5 Series  2016  16000    Automatic    62794   Diesel  51.4         3.0\n",
              "3   1 Series  2017  12750    Automatic    26676   Diesel  72.4         1.5\n",
              "4   7 Series  2014  14500    Automatic    39554   Diesel  50.4         3.0"
            ]
          },
          "metadata": {},
          "output_type": "display_data"
        },
        {
          "data": {
            "text/html": [
              "<div>\n",
              "<style scoped>\n",
              "    .dataframe tbody tr th:only-of-type {\n",
              "        vertical-align: middle;\n",
              "    }\n",
              "\n",
              "    .dataframe tbody tr th {\n",
              "        vertical-align: top;\n",
              "    }\n",
              "\n",
              "    .dataframe thead th {\n",
              "        text-align: right;\n",
              "    }\n",
              "</style>\n",
              "<table border=\"1\" class=\"dataframe\">\n",
              "  <thead>\n",
              "    <tr style=\"text-align: right;\">\n",
              "      <th></th>\n",
              "      <th>model</th>\n",
              "      <th>year</th>\n",
              "      <th>price</th>\n",
              "      <th>transmission</th>\n",
              "      <th>mileage</th>\n",
              "      <th>fuelType</th>\n",
              "      <th>mpg</th>\n",
              "      <th>engineSize</th>\n",
              "    </tr>\n",
              "  </thead>\n",
              "  <tbody>\n",
              "    <tr>\n",
              "      <th>10776</th>\n",
              "      <td>X3</td>\n",
              "      <td>2016</td>\n",
              "      <td>19000</td>\n",
              "      <td>Automatic</td>\n",
              "      <td>40818</td>\n",
              "      <td>Diesel</td>\n",
              "      <td>54.3</td>\n",
              "      <td>2.0</td>\n",
              "    </tr>\n",
              "    <tr>\n",
              "      <th>10777</th>\n",
              "      <td>5 Series</td>\n",
              "      <td>2016</td>\n",
              "      <td>14600</td>\n",
              "      <td>Automatic</td>\n",
              "      <td>42947</td>\n",
              "      <td>Diesel</td>\n",
              "      <td>60.1</td>\n",
              "      <td>2.0</td>\n",
              "    </tr>\n",
              "    <tr>\n",
              "      <th>10778</th>\n",
              "      <td>3 Series</td>\n",
              "      <td>2017</td>\n",
              "      <td>13100</td>\n",
              "      <td>Manual</td>\n",
              "      <td>25468</td>\n",
              "      <td>Petrol</td>\n",
              "      <td>42.8</td>\n",
              "      <td>2.0</td>\n",
              "    </tr>\n",
              "    <tr>\n",
              "      <th>10779</th>\n",
              "      <td>1 Series</td>\n",
              "      <td>2014</td>\n",
              "      <td>9930</td>\n",
              "      <td>Automatic</td>\n",
              "      <td>45000</td>\n",
              "      <td>Diesel</td>\n",
              "      <td>64.2</td>\n",
              "      <td>2.0</td>\n",
              "    </tr>\n",
              "    <tr>\n",
              "      <th>10780</th>\n",
              "      <td>X1</td>\n",
              "      <td>2017</td>\n",
              "      <td>15981</td>\n",
              "      <td>Automatic</td>\n",
              "      <td>59432</td>\n",
              "      <td>Diesel</td>\n",
              "      <td>57.6</td>\n",
              "      <td>2.0</td>\n",
              "    </tr>\n",
              "  </tbody>\n",
              "</table>\n",
              "</div>"
            ],
            "text/plain": [
              "           model  year  price transmission  mileage fuelType   mpg  engineSize\n",
              "10776         X3  2016  19000    Automatic    40818   Diesel  54.3         2.0\n",
              "10777   5 Series  2016  14600    Automatic    42947   Diesel  60.1         2.0\n",
              "10778   3 Series  2017  13100       Manual    25468   Petrol  42.8         2.0\n",
              "10779   1 Series  2014   9930    Automatic    45000   Diesel  64.2         2.0\n",
              "10780         X1  2017  15981    Automatic    59432   Diesel  57.6         2.0"
            ]
          },
          "metadata": {},
          "output_type": "display_data"
        }
      ],
      "source": [
        "df = pd.read_csv(\"bmw.csv\")\n",
        "\n",
        "# bmw.xlsx\n",
        "# df = pd.read_excel(\"bmw.xlsx\")\n",
        "\n",
        "print(type(df))\n",
        "display(df.head())\n",
        "display(df.tail())"
      ]
    },
    {
      "cell_type": "markdown",
      "metadata": {
        "id": "MBbdvhogurpY"
      },
      "source": [
        "#### Check for missing values, data types of the columns"
      ]
    },
    {
      "cell_type": "code",
      "execution_count": null,
      "metadata": {
        "id": "kcc-lH-HurpY",
        "outputId": "edc5bb4f-f836-4112-cf8d-23cf5b7c8426"
      },
      "outputs": [
        {
          "name": "stdout",
          "output_type": "stream",
          "text": [
            "<class 'pandas.core.frame.DataFrame'>\n",
            "RangeIndex: 10781 entries, 0 to 10780\n",
            "Data columns (total 8 columns):\n",
            " #   Column        Non-Null Count  Dtype  \n",
            "---  ------        --------------  -----  \n",
            " 0   model         10781 non-null  object \n",
            " 1   year          10781 non-null  int64  \n",
            " 2   price         10781 non-null  int64  \n",
            " 3   transmission  10781 non-null  object \n",
            " 4   mileage       10781 non-null  int64  \n",
            " 5   fuelType      10781 non-null  object \n",
            " 6   mpg           10781 non-null  float64\n",
            " 7   engineSize    10781 non-null  float64\n",
            "dtypes: float64(2), int64(3), object(3)\n",
            "memory usage: 673.9+ KB\n"
          ]
        }
      ],
      "source": [
        "df.info()\n",
        "\n",
        "# Nan - not a number"
      ]
    },
    {
      "cell_type": "code",
      "execution_count": null,
      "metadata": {
        "id": "Dq2Og7lpA0Ap",
        "outputId": "85bb90b0-cd36-448e-8af1-6f68760eca73"
      },
      "outputs": [
        {
          "name": "stdout",
          "output_type": "stream",
          "text": [
            "(10781, 8)\n",
            "number of rows =  10781\n",
            "number of columns =  8\n"
          ]
        }
      ],
      "source": [
        "print(df.shape)\n",
        "\n",
        "print(\"number of rows = \", df.shape[0])\n",
        "print(\"number of columns = \", df.shape[1])"
      ]
    },
    {
      "cell_type": "markdown",
      "metadata": {
        "id": "EKKv7r4DurpZ"
      },
      "source": [
        "#### Count the number of unique values present in the 'year' column"
      ]
    },
    {
      "cell_type": "code",
      "execution_count": null,
      "metadata": {
        "id": "Po05cr07urpZ",
        "outputId": "06ed6a36-7fca-4c06-94b5-8239c2def774"
      },
      "outputs": [
        {
          "name": "stdout",
          "output_type": "stream",
          "text": [
            "[2014 2018 2016 2017 2015 2019 2013 2020 2002 2004 2007 2008 2011 2012\n",
            " 2009 2006 2010 2003 2001 2005 2000 1999 1996 1997 1998]\n",
            "<class 'numpy.ndarray'>\n",
            "25\n",
            "2019    3485\n",
            "2016    1882\n",
            "2017    1721\n",
            "2015     922\n",
            "2018     848\n",
            "2020     733\n",
            "2014     501\n",
            "2013     357\n",
            "2012     119\n",
            "2011      51\n",
            "2010      41\n",
            "2009      30\n",
            "2008      23\n",
            "2007      16\n",
            "2006      14\n",
            "2004      12\n",
            "2002       6\n",
            "2005       6\n",
            "1999       4\n",
            "2001       3\n",
            "2003       2\n",
            "2000       2\n",
            "1996       1\n",
            "1997       1\n",
            "1998       1\n",
            "Name: year, dtype: int64\n"
          ]
        }
      ],
      "source": [
        "print(df[\"year\"].unique())\n",
        "print(type(df[\"year\"].unique()))\n",
        "print(len(df[\"year\"].unique()))\n",
        "\n",
        "# print(df[\"year\"].values)\n",
        "print(df[\"year\"].value_counts())"
      ]
    },
    {
      "cell_type": "markdown",
      "metadata": {
        "id": "mW-mfyDVurpZ"
      },
      "source": [
        "#### Count the number of unique values present in the 'model' column"
      ]
    },
    {
      "cell_type": "code",
      "execution_count": null,
      "metadata": {
        "id": "nAYqdWUEurpa",
        "outputId": "68d7318c-8c74-441e-dc32-5755c49f26d4"
      },
      "outputs": [
        {
          "name": "stdout",
          "output_type": "stream",
          "text": [
            " 3 Series    2443\n",
            " 1 Series    1969\n",
            " 2 Series    1229\n",
            " 5 Series    1056\n",
            " 4 Series     995\n",
            " X1           804\n",
            " X3           551\n",
            " X5           468\n",
            " X2           288\n",
            " X4           179\n",
            " M4           125\n",
            " 6 Series     108\n",
            " Z4           108\n",
            " 7 Series     106\n",
            " X6           106\n",
            " X7            55\n",
            " i3            43\n",
            " 8 Series      39\n",
            " M5            29\n",
            " M3            27\n",
            " M2            21\n",
            " i8            17\n",
            " M6             8\n",
            " Z3             7\n",
            "Name: model, dtype: int64\n"
          ]
        }
      ],
      "source": [
        "print(df[\"model\"].value_counts())"
      ]
    },
    {
      "cell_type": "markdown",
      "metadata": {
        "id": "Ztjr_zuturpa"
      },
      "source": [
        "#### Count the number of unique values present in the 'transmission' column"
      ]
    },
    {
      "cell_type": "code",
      "execution_count": null,
      "metadata": {
        "id": "1dJ0JQkCurpa",
        "outputId": "db6edf3f-3b71-40f1-9d13-3234e7d2b271"
      },
      "outputs": [
        {
          "name": "stdout",
          "output_type": "stream",
          "text": [
            "Semi-Auto    4666\n",
            "Automatic    3588\n",
            "Manual       2527\n",
            "Name: transmission, dtype: int64\n"
          ]
        }
      ],
      "source": [
        "print(df[\"transmission\"].value_counts())"
      ]
    },
    {
      "cell_type": "markdown",
      "metadata": {
        "id": "Oppa4Rc7urpb"
      },
      "source": [
        "#### Count the number of unique values present in the 'fuelType' column"
      ]
    },
    {
      "cell_type": "code",
      "execution_count": null,
      "metadata": {
        "id": "a4TWc6ynurpb",
        "outputId": "bdd17cfa-c2d3-44fb-83ef-3ef1877c32cd"
      },
      "outputs": [
        {
          "name": "stdout",
          "output_type": "stream",
          "text": [
            "Diesel      7027\n",
            "Petrol      3417\n",
            "Hybrid       298\n",
            "Other         36\n",
            "Electric       3\n",
            "Name: fuelType, dtype: int64\n"
          ]
        }
      ],
      "source": [
        "print(df[\"fuelType\"].value_counts())"
      ]
    },
    {
      "cell_type": "markdown",
      "metadata": {
        "id": "3poKJKK-urpb"
      },
      "source": [
        "#### Pie Chart"
      ]
    },
    {
      "cell_type": "code",
      "execution_count": null,
      "metadata": {
        "id": "L_VXEJqRurpb",
        "outputId": "1afd8e07-5fe6-4bad-d551-a2a4276f7644"
      },
      "outputs": [
        {
          "data": {
            "image/png": "[encoded data removed]",
            "text/plain": [
              "<Figure size 432x288 with 1 Axes>"
            ]
          },
          "metadata": {},
          "output_type": "display_data"
        }
      ],
      "source": [
        "df[\"transmission\"].value_counts().plot(kind=\"pie\", \n",
        "                                       autopct='%1.1f%%', \n",
        "                                       startangle=180)\n",
        "plt.ylabel(\"\")\n",
        "plt.show()"
      ]
    },
    {
      "cell_type": "markdown",
      "metadata": {
        "id": "NMyDiU0Qurpb"
      },
      "source": [
        "#### Problems with pie Chart"
      ]
    },
    {
      "cell_type": "code",
      "execution_count": null,
      "metadata": {
        "id": "mH5zOiDaurpc",
        "outputId": "26caf94e-f772-4c07-e1e8-97df634425d6"
      },
      "outputs": [
        {
          "data": {
            "image/png": "[encoded data removed]",
            "text/plain": [
              "<Figure size 432x288 with 1 Axes>"
            ]
          },
          "metadata": {},
          "output_type": "display_data"
        }
      ],
      "source": [
        "df[\"fuelType\"].value_counts().plot(kind=\"pie\", \n",
        "                                       autopct='%1.1f%%', \n",
        "                                       startangle=180)\n",
        "plt.ylabel(\"\")\n",
        "plt.show()"
      ]
    },
    {
      "cell_type": "markdown",
      "metadata": {
        "id": "P7kH6H-lurpc"
      },
      "source": [
        "#### Find the percentage of unique values present in the 'fuelType' column"
      ]
    },
    {
      "cell_type": "code",
      "execution_count": null,
      "metadata": {
        "id": "BgYHwf5durpc",
        "outputId": "19dc48fd-b46a-461a-9f63-6be3a6d59aee"
      },
      "outputs": [
        {
          "name": "stdout",
          "output_type": "stream",
          "text": [
            "Diesel      7027\n",
            "Petrol      3417\n",
            "Hybrid       298\n",
            "Other         36\n",
            "Electric       3\n",
            "Name: fuelType, dtype: int64\n",
            "<class 'pandas.core.series.Series'>\n"
          ]
        },
        {
          "data": {
            "text/html": [
              "<div>\n",
              "<style scoped>\n",
              "    .dataframe tbody tr th:only-of-type {\n",
              "        vertical-align: middle;\n",
              "    }\n",
              "\n",
              "    .dataframe tbody tr th {\n",
              "        vertical-align: top;\n",
              "    }\n",
              "\n",
              "    .dataframe thead th {\n",
              "        text-align: right;\n",
              "    }\n",
              "</style>\n",
              "<table border=\"1\" class=\"dataframe\">\n",
              "  <thead>\n",
              "    <tr style=\"text-align: right;\">\n",
              "      <th></th>\n",
              "      <th>fuelType</th>\n",
              "    </tr>\n",
              "  </thead>\n",
              "  <tbody>\n",
              "    <tr>\n",
              "      <th>Diesel</th>\n",
              "      <td>7027</td>\n",
              "    </tr>\n",
              "    <tr>\n",
              "      <th>Petrol</th>\n",
              "      <td>3417</td>\n",
              "    </tr>\n",
              "    <tr>\n",
              "      <th>Hybrid</th>\n",
              "      <td>298</td>\n",
              "    </tr>\n",
              "    <tr>\n",
              "      <th>Other</th>\n",
              "      <td>36</td>\n",
              "    </tr>\n",
              "    <tr>\n",
              "      <th>Electric</th>\n",
              "      <td>3</td>\n",
              "    </tr>\n",
              "  </tbody>\n",
              "</table>\n",
              "</div>"
            ],
            "text/plain": [
              "          fuelType\n",
              "Diesel        7027\n",
              "Petrol        3417\n",
              "Hybrid         298\n",
              "Other           36\n",
              "Electric         3"
            ]
          },
          "metadata": {},
          "output_type": "display_data"
        },
        {
          "name": "stdout",
          "output_type": "stream",
          "text": [
            "Index(['Diesel', 'Petrol', 'Hybrid', 'Other', 'Electric'], dtype='object')\n",
            "Index(['fuelType'], dtype='object')\n"
          ]
        }
      ],
      "source": [
        "print(df[\"fuelType\"].value_counts())\n",
        "\n",
        "print(type(df[\"fuelType\"].value_counts()))\n",
        "\n",
        "df_fuelType = pd.DataFrame(df[\"fuelType\"].value_counts())\n",
        "\n",
        "display(df_fuelType.head())\n",
        "print(df_fuelType.index)\n",
        "print(df_fuelType.columns)"
      ]
    },
    {
      "cell_type": "code",
      "execution_count": null,
      "metadata": {
        "id": "Cl3ErPevA0Au",
        "outputId": "8fc3eaff-a4fa-4d49-ccfc-79c593afa879"
      },
      "outputs": [
        {
          "data": {
            "text/html": [
              "<div>\n",
              "<style scoped>\n",
              "    .dataframe tbody tr th:only-of-type {\n",
              "        vertical-align: middle;\n",
              "    }\n",
              "\n",
              "    .dataframe tbody tr th {\n",
              "        vertical-align: top;\n",
              "    }\n",
              "\n",
              "    .dataframe thead th {\n",
              "        text-align: right;\n",
              "    }\n",
              "</style>\n",
              "<table border=\"1\" class=\"dataframe\">\n",
              "  <thead>\n",
              "    <tr style=\"text-align: right;\">\n",
              "      <th></th>\n",
              "      <th>fuelType</th>\n",
              "      <th>no_of_cars</th>\n",
              "      <th>% of cars</th>\n",
              "    </tr>\n",
              "  </thead>\n",
              "  <tbody>\n",
              "    <tr>\n",
              "      <th>0</th>\n",
              "      <td>Diesel</td>\n",
              "      <td>7027</td>\n",
              "      <td>65.18</td>\n",
              "    </tr>\n",
              "    <tr>\n",
              "      <th>1</th>\n",
              "      <td>Petrol</td>\n",
              "      <td>3417</td>\n",
              "      <td>31.69</td>\n",
              "    </tr>\n",
              "    <tr>\n",
              "      <th>2</th>\n",
              "      <td>Hybrid</td>\n",
              "      <td>298</td>\n",
              "      <td>2.76</td>\n",
              "    </tr>\n",
              "    <tr>\n",
              "      <th>3</th>\n",
              "      <td>Other</td>\n",
              "      <td>36</td>\n",
              "      <td>0.33</td>\n",
              "    </tr>\n",
              "    <tr>\n",
              "      <th>4</th>\n",
              "      <td>Electric</td>\n",
              "      <td>3</td>\n",
              "      <td>0.03</td>\n",
              "    </tr>\n",
              "  </tbody>\n",
              "</table>\n",
              "</div>"
            ],
            "text/plain": [
              "   fuelType  no_of_cars  % of cars\n",
              "0    Diesel        7027      65.18\n",
              "1    Petrol        3417      31.69\n",
              "2    Hybrid         298       2.76\n",
              "3     Other          36       0.33\n",
              "4  Electric           3       0.03"
            ]
          },
          "metadata": {},
          "output_type": "display_data"
        }
      ],
      "source": [
        "df_fuelType = pd.DataFrame(df[\"fuelType\"].value_counts())\n",
        "df_fuelType = df_fuelType.reset_index()\n",
        "df_fuelType = df_fuelType.rename(columns={\"index\":\"fuelType\",\n",
        "                                          \"fuelType\":\"no_of_cars\"})\n",
        "\n",
        "df_fuelType[\"% of cars\"] = (df_fuelType[\"no_of_cars\"]/df.shape[0])*100\n",
        "\n",
        "df_fuelType = df_fuelType.round(2)\n",
        "\n",
        "# df_fuelType = np.round(df_fuelType, 2)\n",
        "\n",
        "display(df_fuelType)"
      ]
    },
    {
      "cell_type": "markdown",
      "metadata": {
        "id": "Z2iMqPV4urpc"
      },
      "source": [
        "#### Create a Barplot for the 'fuelType' column"
      ]
    },
    {
      "cell_type": "code",
      "execution_count": null,
      "metadata": {
        "id": "Pp_RZ1dJurpc",
        "outputId": "57675b47-7d14-4ed3-d3fc-e3cb1a613ce6"
      },
      "outputs": [
        {
          "data": {
            "image/png": "[encoded data removed]",
            "text/plain": [
              "<Figure size 432x288 with 1 Axes>"
            ]
          },
          "metadata": {
            "needs_background": "light"
          },
          "output_type": "display_data"
        }
      ],
      "source": [
        "sns.barplot(x=\"fuelType\", \n",
        "            y=\"% of cars\", \n",
        "            data=df_fuelType, \n",
        "            color=\"red\",\n",
        "            alpha=0.8)\n",
        "\n",
        "plt.xlabel(\"Types of fuel\")\n",
        "plt.ylabel(\"% of cars\")\n",
        "plt.title(\"Percentage of cars present in each fuelType\")\n",
        "\n",
        "plt.yticks(np.arange(0,101,10))\n",
        "\n",
        "plt.show()"
      ]
    },
    {
      "cell_type": "code",
      "execution_count": null,
      "metadata": {
        "id": "X0IojTuUA0Au",
        "outputId": "5428d7c9-59d6-4318-b0c2-6b0ead4ada56"
      },
      "outputs": [
        {
          "data": {
            "text/plain": [
              "array([  0,  10,  20,  30,  40,  50,  60,  70,  80,  90, 100])"
            ]
          },
          "execution_count": 144,
          "metadata": {},
          "output_type": "execute_result"
        }
      ],
      "source": [
        "np.arange(0,101,10)"
      ]
    },
    {
      "cell_type": "markdown",
      "metadata": {
        "id": "e9opv3zourpd"
      },
      "source": [
        "#### Find the percentage of unique values present in the 'transmission' column"
      ]
    },
    {
      "cell_type": "code",
      "execution_count": null,
      "metadata": {
        "id": "2RN3zOprurpd",
        "outputId": "ed6f7751-fd8e-49b2-e003-f8c66fb54c90"
      },
      "outputs": [
        {
          "data": {
            "text/html": [
              "<div>\n",
              "<style scoped>\n",
              "    .dataframe tbody tr th:only-of-type {\n",
              "        vertical-align: middle;\n",
              "    }\n",
              "\n",
              "    .dataframe tbody tr th {\n",
              "        vertical-align: top;\n",
              "    }\n",
              "\n",
              "    .dataframe thead th {\n",
              "        text-align: right;\n",
              "    }\n",
              "</style>\n",
              "<table border=\"1\" class=\"dataframe\">\n",
              "  <thead>\n",
              "    <tr style=\"text-align: right;\">\n",
              "      <th></th>\n",
              "      <th>transmission</th>\n",
              "      <th>no_of_cars</th>\n",
              "      <th>% of cars</th>\n",
              "    </tr>\n",
              "  </thead>\n",
              "  <tbody>\n",
              "    <tr>\n",
              "      <th>0</th>\n",
              "      <td>Semi-Auto</td>\n",
              "      <td>4666</td>\n",
              "      <td>43.28</td>\n",
              "    </tr>\n",
              "    <tr>\n",
              "      <th>1</th>\n",
              "      <td>Automatic</td>\n",
              "      <td>3588</td>\n",
              "      <td>33.28</td>\n",
              "    </tr>\n",
              "    <tr>\n",
              "      <th>2</th>\n",
              "      <td>Manual</td>\n",
              "      <td>2527</td>\n",
              "      <td>23.44</td>\n",
              "    </tr>\n",
              "  </tbody>\n",
              "</table>\n",
              "</div>"
            ],
            "text/plain": [
              "  transmission  no_of_cars  % of cars\n",
              "0    Semi-Auto        4666      43.28\n",
              "1    Automatic        3588      33.28\n",
              "2       Manual        2527      23.44"
            ]
          },
          "metadata": {},
          "output_type": "display_data"
        }
      ],
      "source": [
        "df_transmission = pd.DataFrame(df[\"transmission\"].value_counts())\n",
        "df_transmission = df_transmission.reset_index()\n",
        "df_transmission = df_transmission.rename(columns={\"index\":\"transmission\",\n",
        "                                          \"transmission\":\"no_of_cars\"})\n",
        "\n",
        "df_transmission[\"% of cars\"] = (df_transmission[\"no_of_cars\"]/df.shape[0])*100\n",
        "\n",
        "df_transmission = df_transmission.round(2)\n",
        "\n",
        "display(df_transmission)"
      ]
    },
    {
      "cell_type": "markdown",
      "metadata": {
        "id": "sDFAveUSurpd"
      },
      "source": [
        "#### Create a Barplot for the 'transmission' column"
      ]
    },
    {
      "cell_type": "code",
      "execution_count": null,
      "metadata": {
        "id": "SDV561NJurpd",
        "outputId": "ce532eaa-7114-493b-dd9c-f709e16ef56f"
      },
      "outputs": [
        {
          "data": {
            "image/png": "[encoded data removed]",
            "text/plain": [
              "<Figure size 432x288 with 1 Axes>"
            ]
          },
          "metadata": {
            "needs_background": "light"
          },
          "output_type": "display_data"
        }
      ],
      "source": [
        "sns.barplot(x=\"transmission\", \n",
        "            y=\"% of cars\", \n",
        "            data=df_transmission, \n",
        "            color=\"g\",\n",
        "            alpha=0.8)\n",
        "\n",
        "plt.xlabel(\"Types of transmission\")\n",
        "plt.ylabel(\"% of cars\")\n",
        "plt.title(\"Percentage of cars present in each transmission\")\n",
        "\n",
        "plt.yticks(np.arange(0,51,10))\n",
        "\n",
        "# integer\n",
        "\n",
        "plt.show()"
      ]
    }
  ],
  "metadata": {
    "colab": {
      "name": "Lecture_3.ipynb",
      "provenance": [],
      "include_colab_link": true
    },
    "kernelspec": {
      "display_name": "Python 3 (ipykernel)",
      "language": "python",
      "name": "python3"
    },
    "language_info": {
      "codemirror_mode": {
        "name": "ipython",
        "version": 3
      },
      "file_extension": ".py",
      "mimetype": "text/x-python",
      "name": "python",
      "nbconvert_exporter": "python",
      "pygments_lexer": "ipython3",
      "version": "3.8.5"
    }
  },
  "nbformat": 4,
  "nbformat_minor": 0
}
